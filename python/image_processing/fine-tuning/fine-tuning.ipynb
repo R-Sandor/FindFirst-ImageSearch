{
 "cells": [
  {
   "cell_type": "code",
   "execution_count": 4,
   "id": "5fb30392-4035-4842-ab78-0c3d536cdf29",
   "metadata": {},
   "outputs": [],
   "source": [
    "import json\n",
    "import numpy as np\n",
    "import torch\n",
    "import torch.nn\n",
    "import clip\n",
    "from tqdm import tqdm\n",
    "import time\n",
    "import glob\n",
    "import os\n",
    "from PIL import Image\n",
    "\n",
    "device = \"cuda\" if torch.cuda.is_available() else \"cpu\"\n",
    "model, preprocess = clip.load(\"ViT-B/32\", device=device)\n",
    "\n",
    "\n",
    "labels = [\n",
    "    \"algorithm\",\n",
    "    \"architecture diagram\",\n",
    "    \"bar chart\",\n",
    "    \"box plot\",\n",
    "    \"confusion matrix\",\n",
    "    \"graph\",\n",
    "    \"line graph chart\",\n",
    "    \"geographical map\",\n",
    "    \"natural image\",\n",
    "    \"neural network diagram\",\n",
    "    \"natural language processing grammar\",\n",
    "    \"pareto chart\",\n",
    "    \"pie chart\",\n",
    "    \"scatter plot\",\n",
    "    \"screenshot\",\n",
    "    \"table\",\n",
    "    \"tree diagram\",\n",
    "    \"venn diagram\",\n",
    "    \"word cloud\"\n",
    "]\n",
    "tkns = [\"image of a \"+ label for label in labels]\n",
    "text_inputs = clip.tokenize(tkns).to(device)"
   ]
  },
  {
   "cell_type": "code",
   "execution_count": 5,
   "id": "cce4c239-4e2c-4c7d-aeca-895572b5f0c8",
   "metadata": {},
   "outputs": [],
   "source": [
    "# Import Data Science Libraries\n",
    "import numpy as np\n",
    "import pandas as pd\n",
    "import tensorflow as tf\n",
    "from sklearn.model_selection import train_test_split\n",
    "import itertools\n",
    "import random\n",
    "\n",
    "# Import visualization libraries\n",
    "import matplotlib.pyplot as plt\n",
    "import matplotlib.cm as cm\n",
    "import cv2\n",
    "import seaborn as sns\n",
    "\n",
    "# Tensorflow Libraries\n",
    "from tensorflow import keras\n",
    "from tensorflow.keras import layers,models\n",
    "from tensorflow.keras.preprocessing.image import ImageDataGenerator\n",
    "from tensorflow.keras.layers import Dense, Dropout, BatchNormalization\n",
    "from tensorflow.keras.callbacks import Callback, EarlyStopping,ModelCheckpoint, ReduceLROnPlateau\n",
    "from tensorflow.keras import Model\n",
    "from tensorflow.keras.layers.experimental import preprocessing\n",
    "from tensorflow.keras.optimizers import Adam\n",
    "\n",
    "# System libraries\n",
    "from pathlib import Path\n",
    "import os.path\n",
    "import json\n",
    "\n",
    "# Metrics\n",
    "from sklearn.metrics import classification_report, confusion_matrix\n",
    "\n",
    "sns.set_style('darkgrid')"
   ]
  },
  {
   "cell_type": "code",
   "execution_count": 6,
   "id": "4c10991e-ed0b-470d-8095-090244106f78",
   "metadata": {},
   "outputs": [
    {
     "name": "stdout",
     "output_type": "stream",
     "text": [
      "[PhysicalDevice(name='/physical_device:GPU:0', device_type='GPU')]\n"
     ]
    }
   ],
   "source": [
    "print(tf.config.list_physical_devices('GPU'))"
   ]
  },
  {
   "cell_type": "code",
   "execution_count": null,
   "id": "5ec0741e-8846-44b4-9f74-235f38374e39",
   "metadata": {},
   "outputs": [],
   "source": []
  }
 ],
 "metadata": {
  "kernelspec": {
   "display_name": "Python 3 (ipykernel)",
   "language": "python",
   "name": "python3"
  },
  "language_info": {
   "codemirror_mode": {
    "name": "ipython",
    "version": 3
   },
   "file_extension": ".py",
   "mimetype": "text/x-python",
   "name": "python",
   "nbconvert_exporter": "python",
   "pygments_lexer": "ipython3",
   "version": "3.9.2"
  }
 },
 "nbformat": 4,
 "nbformat_minor": 5
}
